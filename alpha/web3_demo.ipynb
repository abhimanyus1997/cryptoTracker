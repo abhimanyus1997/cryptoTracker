{
 "cells": [
  {
   "cell_type": "markdown",
   "metadata": {},
   "source": [
    "# Web3 using Python"
   ]
  },
  {
   "cell_type": "code",
   "execution_count": 3,
   "metadata": {},
   "outputs": [
    {
     "name": "stdout",
     "output_type": "stream",
     "text": [
      "False\n"
     ]
    },
    {
     "ename": "HTTPError",
     "evalue": "401 Client Error: Unauthorized for url: https://mainnet.infura.io/v3/",
     "output_type": "error",
     "traceback": [
      "\u001b[1;31m---------------------------------------------------------------------------\u001b[0m",
      "\u001b[1;31mHTTPError\u001b[0m                                 Traceback (most recent call last)",
      "Cell \u001b[1;32mIn[3], line 16\u001b[0m\n\u001b[0;32m     13\u001b[0m \u001b[39mprint\u001b[39m(web3\u001b[39m.\u001b[39misConnected())\n\u001b[0;32m     15\u001b[0m \u001b[39m# get the blocknumber\u001b[39;00m\n\u001b[1;32m---> 16\u001b[0m \u001b[39mprint\u001b[39m(web3\u001b[39m.\u001b[39;49meth\u001b[39m.\u001b[39;49mblockNumber)\n\u001b[0;32m     18\u001b[0m \u001b[39m# get the balance\u001b[39;00m\n\u001b[0;32m     19\u001b[0m \u001b[39m# balance is shown in Wei, which is a huge number. Wei is likes 'pennies' in the ethereum world\u001b[39;00m\n\u001b[0;32m     20\u001b[0m wallet_address \u001b[39m=\u001b[39m \u001b[39m\"\u001b[39m\u001b[39m0xd7e9d18153de624713c18b1ca18a238c42033ea5\u001b[39m\u001b[39m\"\u001b[39m\n",
      "File \u001b[1;32me:\\projects\\cryptoTracker\\env\\lib\\site-packages\\web3\\eth.py:628\u001b[0m, in \u001b[0;36mEth.blockNumber\u001b[1;34m(self)\u001b[0m\n\u001b[0;32m    622\u001b[0m \u001b[39m@property\u001b[39m\n\u001b[0;32m    623\u001b[0m \u001b[39mdef\u001b[39;00m \u001b[39mblockNumber\u001b[39m(\u001b[39mself\u001b[39m) \u001b[39m-\u001b[39m\u001b[39m>\u001b[39m BlockNumber:\n\u001b[0;32m    624\u001b[0m     warnings\u001b[39m.\u001b[39mwarn(\n\u001b[0;32m    625\u001b[0m         \u001b[39m'\u001b[39m\u001b[39mblockNumber is deprecated in favor of block_number\u001b[39m\u001b[39m'\u001b[39m,\n\u001b[0;32m    626\u001b[0m         category\u001b[39m=\u001b[39m\u001b[39mDeprecationWarning\u001b[39;00m,\n\u001b[0;32m    627\u001b[0m     )\n\u001b[1;32m--> 628\u001b[0m     \u001b[39mreturn\u001b[39;00m \u001b[39mself\u001b[39;49m\u001b[39m.\u001b[39;49mblock_number\n",
      "File \u001b[1;32me:\\projects\\cryptoTracker\\env\\lib\\site-packages\\web3\\eth.py:620\u001b[0m, in \u001b[0;36mEth.block_number\u001b[1;34m(self)\u001b[0m\n\u001b[0;32m    618\u001b[0m \u001b[39m@property\u001b[39m\n\u001b[0;32m    619\u001b[0m \u001b[39mdef\u001b[39;00m \u001b[39mblock_number\u001b[39m(\u001b[39mself\u001b[39m) \u001b[39m-\u001b[39m\u001b[39m>\u001b[39m BlockNumber:\n\u001b[1;32m--> 620\u001b[0m     \u001b[39mreturn\u001b[39;00m \u001b[39mself\u001b[39;49m\u001b[39m.\u001b[39;49mget_block_number()\n",
      "File \u001b[1;32me:\\projects\\cryptoTracker\\env\\lib\\site-packages\\web3\\module.py:57\u001b[0m, in \u001b[0;36mretrieve_blocking_method_call_fn.<locals>.caller\u001b[1;34m(*args, **kwargs)\u001b[0m\n\u001b[0;32m     55\u001b[0m     \u001b[39mreturn\u001b[39;00m LogFilter(eth_module\u001b[39m=\u001b[39mmodule, filter_id\u001b[39m=\u001b[39merr\u001b[39m.\u001b[39mfilter_id)\n\u001b[0;32m     56\u001b[0m result_formatters, error_formatters, null_result_formatters \u001b[39m=\u001b[39m response_formatters\n\u001b[1;32m---> 57\u001b[0m result \u001b[39m=\u001b[39m w3\u001b[39m.\u001b[39;49mmanager\u001b[39m.\u001b[39;49mrequest_blocking(method_str,\n\u001b[0;32m     58\u001b[0m                                      params,\n\u001b[0;32m     59\u001b[0m                                      error_formatters,\n\u001b[0;32m     60\u001b[0m                                      null_result_formatters)\n\u001b[0;32m     61\u001b[0m \u001b[39mreturn\u001b[39;00m apply_result_formatters(result_formatters, result)\n",
      "File \u001b[1;32me:\\projects\\cryptoTracker\\env\\lib\\site-packages\\web3\\manager.py:197\u001b[0m, in \u001b[0;36mRequestManager.request_blocking\u001b[1;34m(self, method, params, error_formatters, null_result_formatters)\u001b[0m\n\u001b[0;32m    187\u001b[0m \u001b[39mdef\u001b[39;00m \u001b[39mrequest_blocking\u001b[39m(\n\u001b[0;32m    188\u001b[0m     \u001b[39mself\u001b[39m,\n\u001b[0;32m    189\u001b[0m     method: Union[RPCEndpoint, Callable[\u001b[39m.\u001b[39m\u001b[39m.\u001b[39m\u001b[39m.\u001b[39m, RPCEndpoint]],\n\u001b[1;32m   (...)\u001b[0m\n\u001b[0;32m    192\u001b[0m     null_result_formatters: Optional[Callable[\u001b[39m.\u001b[39m\u001b[39m.\u001b[39m\u001b[39m.\u001b[39m, Any]] \u001b[39m=\u001b[39m \u001b[39mNone\u001b[39;00m,\n\u001b[0;32m    193\u001b[0m ) \u001b[39m-\u001b[39m\u001b[39m>\u001b[39m Any:\n\u001b[0;32m    194\u001b[0m \u001b[39m    \u001b[39m\u001b[39m\"\"\"\u001b[39;00m\n\u001b[0;32m    195\u001b[0m \u001b[39m    Make a synchronous request using the provider\u001b[39;00m\n\u001b[0;32m    196\u001b[0m \u001b[39m    \"\"\"\u001b[39;00m\n\u001b[1;32m--> 197\u001b[0m     response \u001b[39m=\u001b[39m \u001b[39mself\u001b[39;49m\u001b[39m.\u001b[39;49m_make_request(method, params)\n\u001b[0;32m    198\u001b[0m     \u001b[39mreturn\u001b[39;00m \u001b[39mself\u001b[39m\u001b[39m.\u001b[39mformatted_response(response,\n\u001b[0;32m    199\u001b[0m                                    params,\n\u001b[0;32m    200\u001b[0m                                    error_formatters,\n\u001b[0;32m    201\u001b[0m                                    null_result_formatters)\n",
      "File \u001b[1;32me:\\projects\\cryptoTracker\\env\\lib\\site-packages\\web3\\manager.py:150\u001b[0m, in \u001b[0;36mRequestManager._make_request\u001b[1;34m(self, method, params)\u001b[0m\n\u001b[0;32m    146\u001b[0m request_func \u001b[39m=\u001b[39m \u001b[39mself\u001b[39m\u001b[39m.\u001b[39mprovider\u001b[39m.\u001b[39mrequest_func(\n\u001b[0;32m    147\u001b[0m     \u001b[39mself\u001b[39m\u001b[39m.\u001b[39mweb3,\n\u001b[0;32m    148\u001b[0m     \u001b[39mself\u001b[39m\u001b[39m.\u001b[39mmiddleware_onion)\n\u001b[0;32m    149\u001b[0m \u001b[39mself\u001b[39m\u001b[39m.\u001b[39mlogger\u001b[39m.\u001b[39mdebug(\u001b[39m\"\u001b[39m\u001b[39mMaking request. Method: \u001b[39m\u001b[39m%s\u001b[39;00m\u001b[39m\"\u001b[39m, method)\n\u001b[1;32m--> 150\u001b[0m \u001b[39mreturn\u001b[39;00m request_func(method, params)\n",
      "File \u001b[1;32me:\\projects\\cryptoTracker\\env\\lib\\site-packages\\web3\\middleware\\formatting.py:94\u001b[0m, in \u001b[0;36mconstruct_web3_formatting_middleware.<locals>.formatter_middleware.<locals>.middleware\u001b[1;34m(method, params)\u001b[0m\n\u001b[0;32m     92\u001b[0m     formatter \u001b[39m=\u001b[39m request_formatters[method]\n\u001b[0;32m     93\u001b[0m     params \u001b[39m=\u001b[39m formatter(params)\n\u001b[1;32m---> 94\u001b[0m response \u001b[39m=\u001b[39m make_request(method, params)\n\u001b[0;32m     96\u001b[0m \u001b[39mreturn\u001b[39;00m _apply_response_formatters(method\u001b[39m=\u001b[39mmethod, response\u001b[39m=\u001b[39mresponse, \u001b[39m*\u001b[39m\u001b[39m*\u001b[39mformatters)\n",
      "File \u001b[1;32me:\\projects\\cryptoTracker\\env\\lib\\site-packages\\web3\\middleware\\gas_price_strategy.py:90\u001b[0m, in \u001b[0;36mgas_price_strategy_middleware.<locals>.middleware\u001b[1;34m(method, params)\u001b[0m\n\u001b[0;32m     86\u001b[0m     transaction \u001b[39m=\u001b[39m validate_transaction_params(\n\u001b[0;32m     87\u001b[0m         transaction, latest_block, generated_gas_price\n\u001b[0;32m     88\u001b[0m     )\n\u001b[0;32m     89\u001b[0m     \u001b[39mreturn\u001b[39;00m make_request(method, (transaction,))\n\u001b[1;32m---> 90\u001b[0m \u001b[39mreturn\u001b[39;00m make_request(method, params)\n",
      "File \u001b[1;32me:\\projects\\cryptoTracker\\env\\lib\\site-packages\\web3\\middleware\\formatting.py:94\u001b[0m, in \u001b[0;36mconstruct_web3_formatting_middleware.<locals>.formatter_middleware.<locals>.middleware\u001b[1;34m(method, params)\u001b[0m\n\u001b[0;32m     92\u001b[0m     formatter \u001b[39m=\u001b[39m request_formatters[method]\n\u001b[0;32m     93\u001b[0m     params \u001b[39m=\u001b[39m formatter(params)\n\u001b[1;32m---> 94\u001b[0m response \u001b[39m=\u001b[39m make_request(method, params)\n\u001b[0;32m     96\u001b[0m \u001b[39mreturn\u001b[39;00m _apply_response_formatters(method\u001b[39m=\u001b[39mmethod, response\u001b[39m=\u001b[39mresponse, \u001b[39m*\u001b[39m\u001b[39m*\u001b[39mformatters)\n",
      "File \u001b[1;32me:\\projects\\cryptoTracker\\env\\lib\\site-packages\\web3\\middleware\\attrdict.py:33\u001b[0m, in \u001b[0;36mattrdict_middleware.<locals>.middleware\u001b[1;34m(method, params)\u001b[0m\n\u001b[0;32m     32\u001b[0m \u001b[39mdef\u001b[39;00m \u001b[39mmiddleware\u001b[39m(method: RPCEndpoint, params: Any) \u001b[39m-\u001b[39m\u001b[39m>\u001b[39m RPCResponse:\n\u001b[1;32m---> 33\u001b[0m     response \u001b[39m=\u001b[39m make_request(method, params)\n\u001b[0;32m     35\u001b[0m     \u001b[39mif\u001b[39;00m \u001b[39m'\u001b[39m\u001b[39mresult\u001b[39m\u001b[39m'\u001b[39m \u001b[39min\u001b[39;00m response:\n\u001b[0;32m     36\u001b[0m         result \u001b[39m=\u001b[39m response[\u001b[39m'\u001b[39m\u001b[39mresult\u001b[39m\u001b[39m'\u001b[39m]\n",
      "File \u001b[1;32me:\\projects\\cryptoTracker\\env\\lib\\site-packages\\web3\\middleware\\formatting.py:94\u001b[0m, in \u001b[0;36mconstruct_web3_formatting_middleware.<locals>.formatter_middleware.<locals>.middleware\u001b[1;34m(method, params)\u001b[0m\n\u001b[0;32m     92\u001b[0m     formatter \u001b[39m=\u001b[39m request_formatters[method]\n\u001b[0;32m     93\u001b[0m     params \u001b[39m=\u001b[39m formatter(params)\n\u001b[1;32m---> 94\u001b[0m response \u001b[39m=\u001b[39m make_request(method, params)\n\u001b[0;32m     96\u001b[0m \u001b[39mreturn\u001b[39;00m _apply_response_formatters(method\u001b[39m=\u001b[39mmethod, response\u001b[39m=\u001b[39mresponse, \u001b[39m*\u001b[39m\u001b[39m*\u001b[39mformatters)\n",
      "File \u001b[1;32me:\\projects\\cryptoTracker\\env\\lib\\site-packages\\web3\\middleware\\formatting.py:94\u001b[0m, in \u001b[0;36mconstruct_web3_formatting_middleware.<locals>.formatter_middleware.<locals>.middleware\u001b[1;34m(method, params)\u001b[0m\n\u001b[0;32m     92\u001b[0m     formatter \u001b[39m=\u001b[39m request_formatters[method]\n\u001b[0;32m     93\u001b[0m     params \u001b[39m=\u001b[39m formatter(params)\n\u001b[1;32m---> 94\u001b[0m response \u001b[39m=\u001b[39m make_request(method, params)\n\u001b[0;32m     96\u001b[0m \u001b[39mreturn\u001b[39;00m _apply_response_formatters(method\u001b[39m=\u001b[39mmethod, response\u001b[39m=\u001b[39mresponse, \u001b[39m*\u001b[39m\u001b[39m*\u001b[39mformatters)\n",
      "File \u001b[1;32me:\\projects\\cryptoTracker\\env\\lib\\site-packages\\web3\\middleware\\formatting.py:94\u001b[0m, in \u001b[0;36mconstruct_web3_formatting_middleware.<locals>.formatter_middleware.<locals>.middleware\u001b[1;34m(method, params)\u001b[0m\n\u001b[0;32m     92\u001b[0m     formatter \u001b[39m=\u001b[39m request_formatters[method]\n\u001b[0;32m     93\u001b[0m     params \u001b[39m=\u001b[39m formatter(params)\n\u001b[1;32m---> 94\u001b[0m response \u001b[39m=\u001b[39m make_request(method, params)\n\u001b[0;32m     96\u001b[0m \u001b[39mreturn\u001b[39;00m _apply_response_formatters(method\u001b[39m=\u001b[39mmethod, response\u001b[39m=\u001b[39mresponse, \u001b[39m*\u001b[39m\u001b[39m*\u001b[39mformatters)\n",
      "File \u001b[1;32me:\\projects\\cryptoTracker\\env\\lib\\site-packages\\web3\\middleware\\buffered_gas_estimate.py:40\u001b[0m, in \u001b[0;36mbuffered_gas_estimate_middleware.<locals>.middleware\u001b[1;34m(method, params)\u001b[0m\n\u001b[0;32m     34\u001b[0m         transaction \u001b[39m=\u001b[39m assoc(\n\u001b[0;32m     35\u001b[0m             transaction,\n\u001b[0;32m     36\u001b[0m             \u001b[39m'\u001b[39m\u001b[39mgas\u001b[39m\u001b[39m'\u001b[39m,\n\u001b[0;32m     37\u001b[0m             \u001b[39mhex\u001b[39m(get_buffered_gas_estimate(web3, transaction)),\n\u001b[0;32m     38\u001b[0m         )\n\u001b[0;32m     39\u001b[0m         \u001b[39mreturn\u001b[39;00m make_request(method, [transaction])\n\u001b[1;32m---> 40\u001b[0m \u001b[39mreturn\u001b[39;00m make_request(method, params)\n",
      "File \u001b[1;32me:\\projects\\cryptoTracker\\env\\lib\\site-packages\\web3\\middleware\\exception_retry_request.py:105\u001b[0m, in \u001b[0;36mexception_retry_middleware.<locals>.middleware\u001b[1;34m(method, params)\u001b[0m\n\u001b[0;32m    103\u001b[0m \u001b[39mfor\u001b[39;00m i \u001b[39min\u001b[39;00m \u001b[39mrange\u001b[39m(retries):\n\u001b[0;32m    104\u001b[0m     \u001b[39mtry\u001b[39;00m:\n\u001b[1;32m--> 105\u001b[0m         \u001b[39mreturn\u001b[39;00m make_request(method, params)\n\u001b[0;32m    106\u001b[0m     \u001b[39m# https://github.com/python/mypy/issues/5349\u001b[39;00m\n\u001b[0;32m    107\u001b[0m     \u001b[39mexcept\u001b[39;00m errors:  \u001b[39m# type: ignore\u001b[39;00m\n",
      "File \u001b[1;32me:\\projects\\cryptoTracker\\env\\lib\\site-packages\\web3\\providers\\rpc.py:88\u001b[0m, in \u001b[0;36mHTTPProvider.make_request\u001b[1;34m(self, method, params)\u001b[0m\n\u001b[0;32m     85\u001b[0m \u001b[39mself\u001b[39m\u001b[39m.\u001b[39mlogger\u001b[39m.\u001b[39mdebug(\u001b[39m\"\u001b[39m\u001b[39mMaking request HTTP. URI: \u001b[39m\u001b[39m%s\u001b[39;00m\u001b[39m, Method: \u001b[39m\u001b[39m%s\u001b[39;00m\u001b[39m\"\u001b[39m,\n\u001b[0;32m     86\u001b[0m                   \u001b[39mself\u001b[39m\u001b[39m.\u001b[39mendpoint_uri, method)\n\u001b[0;32m     87\u001b[0m request_data \u001b[39m=\u001b[39m \u001b[39mself\u001b[39m\u001b[39m.\u001b[39mencode_rpc_request(method, params)\n\u001b[1;32m---> 88\u001b[0m raw_response \u001b[39m=\u001b[39m make_post_request(\n\u001b[0;32m     89\u001b[0m     \u001b[39mself\u001b[39m\u001b[39m.\u001b[39mendpoint_uri,\n\u001b[0;32m     90\u001b[0m     request_data,\n\u001b[0;32m     91\u001b[0m     \u001b[39m*\u001b[39m\u001b[39m*\u001b[39m\u001b[39mself\u001b[39m\u001b[39m.\u001b[39mget_request_kwargs()\n\u001b[0;32m     92\u001b[0m )\n\u001b[0;32m     93\u001b[0m response \u001b[39m=\u001b[39m \u001b[39mself\u001b[39m\u001b[39m.\u001b[39mdecode_rpc_response(raw_response)\n\u001b[0;32m     94\u001b[0m \u001b[39mself\u001b[39m\u001b[39m.\u001b[39mlogger\u001b[39m.\u001b[39mdebug(\u001b[39m\"\u001b[39m\u001b[39mGetting response HTTP. URI: \u001b[39m\u001b[39m%s\u001b[39;00m\u001b[39m, \u001b[39m\u001b[39m\"\u001b[39m\n\u001b[0;32m     95\u001b[0m                   \u001b[39m\"\u001b[39m\u001b[39mMethod: \u001b[39m\u001b[39m%s\u001b[39;00m\u001b[39m, Response: \u001b[39m\u001b[39m%s\u001b[39;00m\u001b[39m\"\u001b[39m,\n\u001b[0;32m     96\u001b[0m                   \u001b[39mself\u001b[39m\u001b[39m.\u001b[39mendpoint_uri, method, response)\n",
      "File \u001b[1;32me:\\projects\\cryptoTracker\\env\\lib\\site-packages\\web3\\_utils\\request.py:113\u001b[0m, in \u001b[0;36mmake_post_request\u001b[1;34m(endpoint_uri, data, *args, **kwargs)\u001b[0m\n\u001b[0;32m    111\u001b[0m \u001b[39m# https://github.com/python/mypy/issues/2582\u001b[39;00m\n\u001b[0;32m    112\u001b[0m response \u001b[39m=\u001b[39m session\u001b[39m.\u001b[39mpost(endpoint_uri, data\u001b[39m=\u001b[39mdata, \u001b[39m*\u001b[39margs, \u001b[39m*\u001b[39m\u001b[39m*\u001b[39mkwargs)  \u001b[39m# type: ignore\u001b[39;00m\n\u001b[1;32m--> 113\u001b[0m response\u001b[39m.\u001b[39;49mraise_for_status()\n\u001b[0;32m    115\u001b[0m \u001b[39mreturn\u001b[39;00m response\u001b[39m.\u001b[39mcontent\n",
      "File \u001b[1;32me:\\projects\\cryptoTracker\\env\\lib\\site-packages\\requests\\models.py:1021\u001b[0m, in \u001b[0;36mResponse.raise_for_status\u001b[1;34m(self)\u001b[0m\n\u001b[0;32m   1016\u001b[0m     http_error_msg \u001b[39m=\u001b[39m (\n\u001b[0;32m   1017\u001b[0m         \u001b[39mf\u001b[39m\u001b[39m\"\u001b[39m\u001b[39m{\u001b[39;00m\u001b[39mself\u001b[39m\u001b[39m.\u001b[39mstatus_code\u001b[39m}\u001b[39;00m\u001b[39m Server Error: \u001b[39m\u001b[39m{\u001b[39;00mreason\u001b[39m}\u001b[39;00m\u001b[39m for url: \u001b[39m\u001b[39m{\u001b[39;00m\u001b[39mself\u001b[39m\u001b[39m.\u001b[39murl\u001b[39m}\u001b[39;00m\u001b[39m\"\u001b[39m\n\u001b[0;32m   1018\u001b[0m     )\n\u001b[0;32m   1020\u001b[0m \u001b[39mif\u001b[39;00m http_error_msg:\n\u001b[1;32m-> 1021\u001b[0m     \u001b[39mraise\u001b[39;00m HTTPError(http_error_msg, response\u001b[39m=\u001b[39m\u001b[39mself\u001b[39m)\n",
      "\u001b[1;31mHTTPError\u001b[0m: 401 Client Error: Unauthorized for url: https://mainnet.infura.io/v3/"
     ]
    }
   ],
   "source": [
    "from web3 import Web3\n",
    "\n",
    "# rpc urls are endpoints used to send and receive data to a specific blockchain\n",
    "# here we're interacting with Polygon's testnet, the mumbai testnet\n",
    "\n",
    "# mumbai_rpc_url = \"https://mainnet.infura.io/v3/\"\n",
    "mumbai_rpc_url = \"https://rpc-mumbai.maticvigil.com\"\n",
    "\n",
    "# The provider is your connection to a blockchain\n",
    "web3 = Web3(Web3.HTTPProvider(mumbai_rpc_url))\n",
    "\n",
    "# log if we're connected or not\n",
    "print(web3.isConnected())\n",
    "\n",
    "# get the blocknumber\n",
    "print(web3.eth.blockNumber)\n",
    "\n",
    "# get the balance\n",
    "# balance is shown in Wei, which is a huge number. Wei is likes 'pennies' in the ethereum world\n",
    "wallet_address = \"0xd8dA6BF26964aF9D7eEd9e03E53415D37aA96045\"\n",
    "print(web3.eth.getBalance(wallet_address))\n",
    "\n",
    "# balance here is formatted in ether,\n",
    "balance = web3.eth.getBalance(wallet_address)\n",
    "print(web3.fromWei(balance, \"ether\"))\n"
   ]
  },
  {
   "cell_type": "code",
   "execution_count": null,
   "metadata": {},
   "outputs": [],
   "source": []
  }
 ],
 "metadata": {
  "kernelspec": {
   "display_name": "env",
   "language": "python",
   "name": "python3"
  },
  "language_info": {
   "codemirror_mode": {
    "name": "ipython",
    "version": 3
   },
   "file_extension": ".py",
   "mimetype": "text/x-python",
   "name": "python",
   "nbconvert_exporter": "python",
   "pygments_lexer": "ipython3",
   "version": "3.9.7"
  },
  "orig_nbformat": 4,
  "vscode": {
   "interpreter": {
    "hash": "7d7cc5458ad97ee578de8e0fbb78440c1aeb886f9aea970e4cfdf479940b1ed3"
   }
  }
 },
 "nbformat": 4,
 "nbformat_minor": 2
}
