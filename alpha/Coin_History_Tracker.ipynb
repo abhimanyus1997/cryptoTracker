{
  "cells": [
    {
      "cell_type": "markdown",
      "metadata": {
        "id": "view-in-github",
        "colab_type": "text"
      },
      "source": [
        "<a href=\"https://colab.research.google.com/github/abhimanyus1997/cryptoTracker/blob/main/Coin_History_Tracker.ipynb\" target=\"_parent\"><img src=\"https://colab.research.google.com/assets/colab-badge.svg\" alt=\"Open In Colab\"/></a>"
      ]
    },
    {
      "cell_type": "markdown",
      "id": "626962de",
      "metadata": {
        "id": "626962de"
      },
      "source": [
        "# Coingecko API (for Historical Price of Tokens)"
      ]
    },
    {
      "cell_type": "code",
      "execution_count": 25,
      "id": "23b0f02a",
      "metadata": {
        "id": "23b0f02a"
      },
      "outputs": [],
      "source": [
        "# Import libraries\n",
        "import json\n",
        "import requests\n",
        "import pandas as pd\n",
        "from IPython import display\n",
        "\n",
        "def coingeckoRequest(endpoint,as_dict = False,**kwargs):\n",
        "    \"\"\"\n",
        "    Coingecko API v3 rendering for Python users by abhimanyus1997\n",
        "    ----------------------------------------------------------\n",
        "    Keyword arguments:\n",
        "        endpoint: API endpoint for coingecko\n",
        "    Optional keyword arguments:\n",
        "        as_dict: True if you want to return Python Dictionary (Default: False)\n",
        "        *kwargs: Various API paramameters some might be mandatory (refer: https://www.coingecko.com/en/api/documentation)\n",
        "    ----------------------------------------------------------\n",
        "    Return -> Pandas Dataframe: pandas.core.frame.DataFrame\n",
        "    -----------------------------------------------------------\n",
        "    If error occurs: Returns Python Dictionary\n",
        "    \"\"\"\n",
        "\n",
        "    if endpoint == \"\":\n",
        "        raise Exception(\"Invalid Null Endpoint\")\n",
        "    elif type(endpoint) != str:\n",
        "        raise TypeError(\"Endpoint should be String Type\")\n",
        "    \n",
        "    global df\n",
        "    # defining key/request url\n",
        "    coingecko_api = \"https://api.coingecko.com/api/v3/\"\n",
        "    \n",
        "    ## ENDPOINTS\n",
        "    #endpoint = \"coins/list\"\n",
        "    x = \"\"\n",
        "    for key,value in kwargs.items():\n",
        "        x = x+key+\"=\"+value+\"&\"\n",
        "    \n",
        "    # URL\n",
        "    url = coingecko_api+str(endpoint)+\"?\"+x\n",
        "    print(f\"API URL: {url}\")\n",
        "\n",
        "    # requesting data from url\n",
        "    data = requests.get(url)  \n",
        "    data = data.json()\n",
        "    \n",
        "    if \"error\" in data:\n",
        "        raise Exception(\"API Error:\",data[\"error\"])\n",
        "    else:\n",
        "        pass\n",
        "    \n",
        "    #converting JSON to Pandas df\n",
        "    try:\n",
        "        df = pd.DataFrame.from_dict(data)\n",
        "    except:\n",
        "        print(\"⚠️ Pandas Dataframe Rendering Error: Returning Python Dictionary\")\n",
        "        return data\n",
        "    \n",
        "    # Returns data dictionary or Pandas Dataframe based on used input\n",
        "    if as_dict == True:\n",
        "        return data\n",
        "    else:\n",
        "        return df\n"
      ]
    },
    {
      "cell_type": "markdown",
      "id": "5c0e5baf",
      "metadata": {
        "id": "5c0e5baf"
      },
      "source": [
        "## Coingecko API v3 Endpoints"
      ]
    },
    {
      "cell_type": "markdown",
      "id": "6a10f17a",
      "metadata": {
        "id": "6a10f17a"
      },
      "source": [
        "### `/search/trending` Get trending search coins (Top-7) on CoinGecko in the last 24 hours"
      ]
    },
    {
      "cell_type": "code",
      "execution_count": 26,
      "id": "084edcba",
      "metadata": {
        "colab": {
          "base_uri": "https://localhost:8080/"
        },
        "id": "084edcba",
        "outputId": "d5928a4f-a00f-435f-f7b0-360015d9951e"
      },
      "outputs": [
        {
          "output_type": "stream",
          "name": "stdout",
          "text": [
            "API URL: https://api.coingecko.com/api/v3/search/trending?\n",
            "⚠️ Pandas Dataframe Rendering Error: Returning Python Dictionary\n"
          ]
        }
      ],
      "source": [
        "d = coingeckoRequest(\"search/trending\")"
      ]
    },
    {
      "cell_type": "code",
      "execution_count": 27,
      "id": "51eceacd",
      "metadata": {
        "colab": {
          "base_uri": "https://localhost:8080/"
        },
        "id": "51eceacd",
        "outputId": "6faf31f0-ef02-479d-9107-0d156b74f45d"
      },
      "outputs": [
        {
          "output_type": "execute_result",
          "data": {
            "text/plain": [
              "dict_keys(['coins', 'exchanges'])"
            ]
          },
          "metadata": {},
          "execution_count": 27
        }
      ],
      "source": [
        "d.keys()"
      ]
    },
    {
      "cell_type": "code",
      "execution_count": 28,
      "id": "5001140e",
      "metadata": {
        "colab": {
          "base_uri": "https://localhost:8080/"
        },
        "id": "5001140e",
        "outputId": "0415b815-c1c8-4347-9c98-cb6bfe793946"
      },
      "outputs": [
        {
          "output_type": "execute_result",
          "data": {
            "text/plain": [
              "[{'item': {'coin_id': 24023,\n",
              "   'id': 'evmos',\n",
              "   'large': 'https://assets.coingecko.com/coins/images/24023/large/evmos.png?1653958927',\n",
              "   'market_cap_rank': 102,\n",
              "   'name': 'Evmos',\n",
              "   'price_btc': 8.925928178700515e-05,\n",
              "   'score': 0,\n",
              "   'slug': 'evmos',\n",
              "   'small': 'https://assets.coingecko.com/coins/images/24023/small/evmos.png?1653958927',\n",
              "   'symbol': 'EVMOS',\n",
              "   'thumb': 'https://assets.coingecko.com/coins/images/24023/thumb/evmos.png?1653958927'}},\n",
              " {'item': {'coin_id': 25767,\n",
              "   'id': 'terra-luna-2',\n",
              "   'large': 'https://assets.coingecko.com/coins/images/25767/large/01_Luna_color.png?1653556122',\n",
              "   'market_cap_rank': 138,\n",
              "   'name': 'Terra',\n",
              "   'price_btc': 9.649572588162139e-05,\n",
              "   'score': 1,\n",
              "   'slug': 'terra',\n",
              "   'small': 'https://assets.coingecko.com/coins/images/25767/small/01_Luna_color.png?1653556122',\n",
              "   'symbol': 'LUNA',\n",
              "   'thumb': 'https://assets.coingecko.com/coins/images/25767/thumb/01_Luna_color.png?1653556122'}},\n",
              " {'item': {'coin_id': 12681,\n",
              "   'id': 'terrausd',\n",
              "   'large': 'https://assets.coingecko.com/coins/images/12681/large/UST.png?1653548090',\n",
              "   'market_cap_rank': 187,\n",
              "   'name': 'TerraClassicUSD',\n",
              "   'price_btc': 7.704068374438598e-07,\n",
              "   'score': 2,\n",
              "   'slug': 'terraclassicusd',\n",
              "   'small': 'https://assets.coingecko.com/coins/images/12681/small/UST.png?1653548090',\n",
              "   'symbol': 'USTC',\n",
              "   'thumb': 'https://assets.coingecko.com/coins/images/12681/thumb/UST.png?1653548090'}},\n",
              " {'item': {'coin_id': 3263,\n",
              "   'id': 'celsius-degree-token',\n",
              "   'large': 'https://assets.coingecko.com/coins/images/3263/large/CEL_logo.png?1609598753',\n",
              "   'market_cap_rank': 115,\n",
              "   'name': 'Celsius Network',\n",
              "   'price_btc': 3.49248823255547e-05,\n",
              "   'score': 3,\n",
              "   'slug': 'celsius-network-token',\n",
              "   'small': 'https://assets.coingecko.com/coins/images/3263/small/CEL_logo.png?1609598753',\n",
              "   'symbol': 'CEL',\n",
              "   'thumb': 'https://assets.coingecko.com/coins/images/3263/thumb/CEL_logo.png?1609598753'}},\n",
              " {'item': {'coin_id': 12129,\n",
              "   'id': 'the-sandbox',\n",
              "   'large': 'https://assets.coingecko.com/coins/images/12129/large/sandbox_logo.jpg?1597397942',\n",
              "   'market_cap_rank': 37,\n",
              "   'name': 'The Sandbox',\n",
              "   'price_btc': 5.7138072683366034e-05,\n",
              "   'score': 4,\n",
              "   'slug': 'the-sandbox',\n",
              "   'small': 'https://assets.coingecko.com/coins/images/12129/small/sandbox_logo.jpg?1597397942',\n",
              "   'symbol': 'SAND',\n",
              "   'thumb': 'https://assets.coingecko.com/coins/images/12129/thumb/sandbox_logo.jpg?1597397942'}},\n",
              " {'item': {'coin_id': 4128,\n",
              "   'id': 'solana',\n",
              "   'large': 'https://assets.coingecko.com/coins/images/4128/large/solana.png?1640133422',\n",
              "   'market_cap_rank': 9,\n",
              "   'name': 'Solana',\n",
              "   'price_btc': 0.0018727914310360386,\n",
              "   'score': 5,\n",
              "   'slug': 'solana',\n",
              "   'small': 'https://assets.coingecko.com/coins/images/4128/small/solana.png?1640133422',\n",
              "   'symbol': 'SOL',\n",
              "   'thumb': 'https://assets.coingecko.com/coins/images/4128/thumb/solana.png?1640133422'}},\n",
              " {'item': {'coin_id': 1,\n",
              "   'id': 'bitcoin',\n",
              "   'large': 'https://assets.coingecko.com/coins/images/1/large/bitcoin.png?1547033579',\n",
              "   'market_cap_rank': 1,\n",
              "   'name': 'Bitcoin',\n",
              "   'price_btc': 1.0,\n",
              "   'score': 6,\n",
              "   'slug': 'bitcoin',\n",
              "   'small': 'https://assets.coingecko.com/coins/images/1/small/bitcoin.png?1547033579',\n",
              "   'symbol': 'BTC',\n",
              "   'thumb': 'https://assets.coingecko.com/coins/images/1/thumb/bitcoin.png?1547033579'}}]"
            ]
          },
          "metadata": {},
          "execution_count": 28
        }
      ],
      "source": [
        "d[\"coins\"]"
      ]
    },
    {
      "cell_type": "code",
      "execution_count": 29,
      "id": "224e660e",
      "metadata": {
        "colab": {
          "base_uri": "https://localhost:8080/"
        },
        "id": "224e660e",
        "outputId": "f6114b84-7742-4da4-f8f1-3ae1bb145e28"
      },
      "outputs": [
        {
          "output_type": "execute_result",
          "data": {
            "text/plain": [
              "list"
            ]
          },
          "metadata": {},
          "execution_count": 29
        }
      ],
      "source": [
        "type(d['coins'])"
      ]
    },
    {
      "cell_type": "code",
      "execution_count": 30,
      "id": "5ddbb269",
      "metadata": {
        "colab": {
          "base_uri": "https://localhost:8080/"
        },
        "id": "5ddbb269",
        "outputId": "828b675d-37d7-41ca-a07c-ab86f5f180dc"
      },
      "outputs": [
        {
          "output_type": "stream",
          "name": "stdout",
          "text": [
            "Todays most popular coin is: \n"
          ]
        },
        {
          "output_type": "execute_result",
          "data": {
            "text/plain": [
              "{'item': {'coin_id': 24023,\n",
              "  'id': 'evmos',\n",
              "  'large': 'https://assets.coingecko.com/coins/images/24023/large/evmos.png?1653958927',\n",
              "  'market_cap_rank': 102,\n",
              "  'name': 'Evmos',\n",
              "  'price_btc': 8.925928178700515e-05,\n",
              "  'score': 0,\n",
              "  'slug': 'evmos',\n",
              "  'small': 'https://assets.coingecko.com/coins/images/24023/small/evmos.png?1653958927',\n",
              "  'symbol': 'EVMOS',\n",
              "  'thumb': 'https://assets.coingecko.com/coins/images/24023/thumb/evmos.png?1653958927'}}"
            ]
          },
          "metadata": {},
          "execution_count": 30
        }
      ],
      "source": [
        "print(\"Todays most popular coin is: \")\n",
        "d['coins'][0]"
      ]
    },
    {
      "cell_type": "code",
      "execution_count": 31,
      "id": "38f5718b",
      "metadata": {
        "colab": {
          "base_uri": "https://localhost:8080/"
        },
        "id": "38f5718b",
        "outputId": "92a1ee11-6771-4168-c685-bc89ba340650"
      },
      "outputs": [
        {
          "output_type": "stream",
          "name": "stdout",
          "text": [
            "List of Todays' 7 most popular coins:\n",
            "\t• Evmos - EVMOS\n",
            "\t• Terra - LUNA\n",
            "\t• TerraClassicUSD - USTC\n",
            "\t• Celsius Network - CEL\n",
            "\t• The Sandbox - SAND\n",
            "\t• Solana - SOL\n",
            "\t• Bitcoin - BTC\n"
          ]
        }
      ],
      "source": [
        "print(\"List of Todays' 7 most popular coins:\")\n",
        "for i in  d['coins']:\n",
        "    name = i['item']['name']\n",
        "    symbol = i['item']['symbol']\n",
        "    print(f\"\\t• {name} - {symbol}\")"
      ]
    },
    {
      "cell_type": "markdown",
      "id": "73e435d1",
      "metadata": {
        "id": "73e435d1"
      },
      "source": [
        "### `/coins/marketsList` all supported coins price, market cap, volume, and market related data"
      ]
    },
    {
      "cell_type": "code",
      "execution_count": 32,
      "id": "623a8cbf",
      "metadata": {
        "colab": {
          "base_uri": "https://localhost:8080/",
          "height": 0
        },
        "id": "623a8cbf",
        "outputId": "a85ca107-30b3-42ea-d8ac-d205d77cc64e"
      },
      "outputs": [
        {
          "output_type": "stream",
          "name": "stdout",
          "text": [
            "API URL: https://api.coingecko.com/api/v3/coins/markets?vs_currency=usd&ids=ethereum,tether,bitcoin,litecoin,binance coin&price_change_percentag=1h&\n"
          ]
        },
        {
          "output_type": "execute_result",
          "data": {
            "text/plain": [
              "         id symbol      name  \\\n",
              "0   bitcoin    btc   Bitcoin   \n",
              "1  ethereum    eth  Ethereum   \n",
              "2    tether   usdt    Tether   \n",
              "3  litecoin    ltc  Litecoin   \n",
              "\n",
              "                                               image  current_price  \\\n",
              "0  https://assets.coingecko.com/coins/images/1/la...       21028.00   \n",
              "1  https://assets.coingecko.com/coins/images/279/...        1208.52   \n",
              "2  https://assets.coingecko.com/coins/images/325/...           1.00   \n",
              "3  https://assets.coingecko.com/coins/images/2/la...          57.30   \n",
              "\n",
              "     market_cap  market_cap_rank  fully_diluted_valuation  total_volume  \\\n",
              "0  400821319352                1             4.412001e+11   15638981353   \n",
              "1  146611730548                2                      NaN   11796466094   \n",
              "2   66918257557                3                      NaN   29875975180   \n",
              "3    4047467403               20             4.816242e+09     411132610   \n",
              "\n",
              "    high_24h  ...  total_supply  max_supply       ath  ath_change_percentage  \\\n",
              "0  21782.000  ...  2.100000e+07  21000000.0  69045.00              -69.50796   \n",
              "1   1274.670  ...           NaN         NaN   4878.26              -75.33832   \n",
              "2      1.004  ...  6.686726e+10         NaN      1.32              -24.39104   \n",
              "3     60.370  ...  8.400000e+07  84000000.0    410.26              -86.05197   \n",
              "\n",
              "                   ath_date        atl  atl_change_percentage  \\\n",
              "0  2021-11-10T14:24:11.849Z  67.810000            30947.73138   \n",
              "1  2021-11-10T14:24:19.604Z   0.432979           277756.80289   \n",
              "2  2018-07-24T00:00:00.000Z   0.572521               74.73221   \n",
              "3  2021-05-10T03:13:07.904Z   1.150000             4880.94214   \n",
              "\n",
              "                   atl_date  \\\n",
              "0  2013-07-06T00:00:00.000Z   \n",
              "1  2015-10-20T00:00:00.000Z   \n",
              "2  2015-03-02T00:00:00.000Z   \n",
              "3  2015-01-14T00:00:00.000Z   \n",
              "\n",
              "                                                 roi              last_updated  \n",
              "0                                               None  2022-06-27T01:20:10.084Z  \n",
              "1  {'times': 75.84076896648494, 'currency': 'btc'...  2022-06-27T01:19:13.525Z  \n",
              "2                                               None  2022-06-27T01:16:23.926Z  \n",
              "3                                               None  2022-06-27T01:19:55.494Z  \n",
              "\n",
              "[4 rows x 26 columns]"
            ],
            "text/html": [
              "\n",
              "  <div id=\"df-a93139d3-9722-4e77-ba2c-bab881f9b8e1\">\n",
              "    <div class=\"colab-df-container\">\n",
              "      <div>\n",
              "<style scoped>\n",
              "    .dataframe tbody tr th:only-of-type {\n",
              "        vertical-align: middle;\n",
              "    }\n",
              "\n",
              "    .dataframe tbody tr th {\n",
              "        vertical-align: top;\n",
              "    }\n",
              "\n",
              "    .dataframe thead th {\n",
              "        text-align: right;\n",
              "    }\n",
              "</style>\n",
              "<table border=\"1\" class=\"dataframe\">\n",
              "  <thead>\n",
              "    <tr style=\"text-align: right;\">\n",
              "      <th></th>\n",
              "      <th>id</th>\n",
              "      <th>symbol</th>\n",
              "      <th>name</th>\n",
              "      <th>image</th>\n",
              "      <th>current_price</th>\n",
              "      <th>market_cap</th>\n",
              "      <th>market_cap_rank</th>\n",
              "      <th>fully_diluted_valuation</th>\n",
              "      <th>total_volume</th>\n",
              "      <th>high_24h</th>\n",
              "      <th>...</th>\n",
              "      <th>total_supply</th>\n",
              "      <th>max_supply</th>\n",
              "      <th>ath</th>\n",
              "      <th>ath_change_percentage</th>\n",
              "      <th>ath_date</th>\n",
              "      <th>atl</th>\n",
              "      <th>atl_change_percentage</th>\n",
              "      <th>atl_date</th>\n",
              "      <th>roi</th>\n",
              "      <th>last_updated</th>\n",
              "    </tr>\n",
              "  </thead>\n",
              "  <tbody>\n",
              "    <tr>\n",
              "      <th>0</th>\n",
              "      <td>bitcoin</td>\n",
              "      <td>btc</td>\n",
              "      <td>Bitcoin</td>\n",
              "      <td>https://assets.coingecko.com/coins/images/1/la...</td>\n",
              "      <td>21028.00</td>\n",
              "      <td>400821319352</td>\n",
              "      <td>1</td>\n",
              "      <td>4.412001e+11</td>\n",
              "      <td>15638981353</td>\n",
              "      <td>21782.000</td>\n",
              "      <td>...</td>\n",
              "      <td>2.100000e+07</td>\n",
              "      <td>21000000.0</td>\n",
              "      <td>69045.00</td>\n",
              "      <td>-69.50796</td>\n",
              "      <td>2021-11-10T14:24:11.849Z</td>\n",
              "      <td>67.810000</td>\n",
              "      <td>30947.73138</td>\n",
              "      <td>2013-07-06T00:00:00.000Z</td>\n",
              "      <td>None</td>\n",
              "      <td>2022-06-27T01:20:10.084Z</td>\n",
              "    </tr>\n",
              "    <tr>\n",
              "      <th>1</th>\n",
              "      <td>ethereum</td>\n",
              "      <td>eth</td>\n",
              "      <td>Ethereum</td>\n",
              "      <td>https://assets.coingecko.com/coins/images/279/...</td>\n",
              "      <td>1208.52</td>\n",
              "      <td>146611730548</td>\n",
              "      <td>2</td>\n",
              "      <td>NaN</td>\n",
              "      <td>11796466094</td>\n",
              "      <td>1274.670</td>\n",
              "      <td>...</td>\n",
              "      <td>NaN</td>\n",
              "      <td>NaN</td>\n",
              "      <td>4878.26</td>\n",
              "      <td>-75.33832</td>\n",
              "      <td>2021-11-10T14:24:19.604Z</td>\n",
              "      <td>0.432979</td>\n",
              "      <td>277756.80289</td>\n",
              "      <td>2015-10-20T00:00:00.000Z</td>\n",
              "      <td>{'times': 75.84076896648494, 'currency': 'btc'...</td>\n",
              "      <td>2022-06-27T01:19:13.525Z</td>\n",
              "    </tr>\n",
              "    <tr>\n",
              "      <th>2</th>\n",
              "      <td>tether</td>\n",
              "      <td>usdt</td>\n",
              "      <td>Tether</td>\n",
              "      <td>https://assets.coingecko.com/coins/images/325/...</td>\n",
              "      <td>1.00</td>\n",
              "      <td>66918257557</td>\n",
              "      <td>3</td>\n",
              "      <td>NaN</td>\n",
              "      <td>29875975180</td>\n",
              "      <td>1.004</td>\n",
              "      <td>...</td>\n",
              "      <td>6.686726e+10</td>\n",
              "      <td>NaN</td>\n",
              "      <td>1.32</td>\n",
              "      <td>-24.39104</td>\n",
              "      <td>2018-07-24T00:00:00.000Z</td>\n",
              "      <td>0.572521</td>\n",
              "      <td>74.73221</td>\n",
              "      <td>2015-03-02T00:00:00.000Z</td>\n",
              "      <td>None</td>\n",
              "      <td>2022-06-27T01:16:23.926Z</td>\n",
              "    </tr>\n",
              "    <tr>\n",
              "      <th>3</th>\n",
              "      <td>litecoin</td>\n",
              "      <td>ltc</td>\n",
              "      <td>Litecoin</td>\n",
              "      <td>https://assets.coingecko.com/coins/images/2/la...</td>\n",
              "      <td>57.30</td>\n",
              "      <td>4047467403</td>\n",
              "      <td>20</td>\n",
              "      <td>4.816242e+09</td>\n",
              "      <td>411132610</td>\n",
              "      <td>60.370</td>\n",
              "      <td>...</td>\n",
              "      <td>8.400000e+07</td>\n",
              "      <td>84000000.0</td>\n",
              "      <td>410.26</td>\n",
              "      <td>-86.05197</td>\n",
              "      <td>2021-05-10T03:13:07.904Z</td>\n",
              "      <td>1.150000</td>\n",
              "      <td>4880.94214</td>\n",
              "      <td>2015-01-14T00:00:00.000Z</td>\n",
              "      <td>None</td>\n",
              "      <td>2022-06-27T01:19:55.494Z</td>\n",
              "    </tr>\n",
              "  </tbody>\n",
              "</table>\n",
              "<p>4 rows × 26 columns</p>\n",
              "</div>\n",
              "      <button class=\"colab-df-convert\" onclick=\"convertToInteractive('df-a93139d3-9722-4e77-ba2c-bab881f9b8e1')\"\n",
              "              title=\"Convert this dataframe to an interactive table.\"\n",
              "              style=\"display:none;\">\n",
              "        \n",
              "  <svg xmlns=\"http://www.w3.org/2000/svg\" height=\"24px\"viewBox=\"0 0 24 24\"\n",
              "       width=\"24px\">\n",
              "    <path d=\"M0 0h24v24H0V0z\" fill=\"none\"/>\n",
              "    <path d=\"M18.56 5.44l.94 2.06.94-2.06 2.06-.94-2.06-.94-.94-2.06-.94 2.06-2.06.94zm-11 1L8.5 8.5l.94-2.06 2.06-.94-2.06-.94L8.5 2.5l-.94 2.06-2.06.94zm10 10l.94 2.06.94-2.06 2.06-.94-2.06-.94-.94-2.06-.94 2.06-2.06.94z\"/><path d=\"M17.41 7.96l-1.37-1.37c-.4-.4-.92-.59-1.43-.59-.52 0-1.04.2-1.43.59L10.3 9.45l-7.72 7.72c-.78.78-.78 2.05 0 2.83L4 21.41c.39.39.9.59 1.41.59.51 0 1.02-.2 1.41-.59l7.78-7.78 2.81-2.81c.8-.78.8-2.07 0-2.86zM5.41 20L4 18.59l7.72-7.72 1.47 1.35L5.41 20z\"/>\n",
              "  </svg>\n",
              "      </button>\n",
              "      \n",
              "  <style>\n",
              "    .colab-df-container {\n",
              "      display:flex;\n",
              "      flex-wrap:wrap;\n",
              "      gap: 12px;\n",
              "    }\n",
              "\n",
              "    .colab-df-convert {\n",
              "      background-color: #E8F0FE;\n",
              "      border: none;\n",
              "      border-radius: 50%;\n",
              "      cursor: pointer;\n",
              "      display: none;\n",
              "      fill: #1967D2;\n",
              "      height: 32px;\n",
              "      padding: 0 0 0 0;\n",
              "      width: 32px;\n",
              "    }\n",
              "\n",
              "    .colab-df-convert:hover {\n",
              "      background-color: #E2EBFA;\n",
              "      box-shadow: 0px 1px 2px rgba(60, 64, 67, 0.3), 0px 1px 3px 1px rgba(60, 64, 67, 0.15);\n",
              "      fill: #174EA6;\n",
              "    }\n",
              "\n",
              "    [theme=dark] .colab-df-convert {\n",
              "      background-color: #3B4455;\n",
              "      fill: #D2E3FC;\n",
              "    }\n",
              "\n",
              "    [theme=dark] .colab-df-convert:hover {\n",
              "      background-color: #434B5C;\n",
              "      box-shadow: 0px 1px 3px 1px rgba(0, 0, 0, 0.15);\n",
              "      filter: drop-shadow(0px 1px 2px rgba(0, 0, 0, 0.3));\n",
              "      fill: #FFFFFF;\n",
              "    }\n",
              "  </style>\n",
              "\n",
              "      <script>\n",
              "        const buttonEl =\n",
              "          document.querySelector('#df-a93139d3-9722-4e77-ba2c-bab881f9b8e1 button.colab-df-convert');\n",
              "        buttonEl.style.display =\n",
              "          google.colab.kernel.accessAllowed ? 'block' : 'none';\n",
              "\n",
              "        async function convertToInteractive(key) {\n",
              "          const element = document.querySelector('#df-a93139d3-9722-4e77-ba2c-bab881f9b8e1');\n",
              "          const dataTable =\n",
              "            await google.colab.kernel.invokeFunction('convertToInteractive',\n",
              "                                                     [key], {});\n",
              "          if (!dataTable) return;\n",
              "\n",
              "          const docLinkHtml = 'Like what you see? Visit the ' +\n",
              "            '<a target=\"_blank\" href=https://colab.research.google.com/notebooks/data_table.ipynb>data table notebook</a>'\n",
              "            + ' to learn more about interactive tables.';\n",
              "          element.innerHTML = '';\n",
              "          dataTable['output_type'] = 'display_data';\n",
              "          await google.colab.output.renderOutput(dataTable, element);\n",
              "          const docLink = document.createElement('div');\n",
              "          docLink.innerHTML = docLinkHtml;\n",
              "          element.appendChild(docLink);\n",
              "        }\n",
              "      </script>\n",
              "    </div>\n",
              "  </div>\n",
              "  "
            ]
          },
          "metadata": {},
          "execution_count": 32
        }
      ],
      "source": [
        "coingeckoRequest(\"coins/markets\", vs_currency=\"usd\", ids=\"ethereum,tether,bitcoin,litecoin,binance coin\", price_change_percentag=\"1h\")"
      ]
    },
    {
      "cell_type": "code",
      "execution_count": 33,
      "id": "c0b7b9e9",
      "metadata": {
        "colab": {
          "base_uri": "https://localhost:8080/",
          "height": 0
        },
        "id": "c0b7b9e9",
        "outputId": "9c8cfa5d-1e8e-4e7d-af87-fbfb68865da3"
      },
      "outputs": [
        {
          "output_type": "execute_result",
          "data": {
            "text/plain": [
              "'/content'"
            ],
            "application/vnd.google.colaboratory.intrinsic+json": {
              "type": "string"
            }
          },
          "metadata": {},
          "execution_count": 33
        }
      ],
      "source": [
        "pwd()"
      ]
    },
    {
      "cell_type": "code",
      "execution_count": 34,
      "id": "6381aafb",
      "metadata": {
        "id": "6381aafb"
      },
      "outputs": [],
      "source": [
        "df.to_csv(\"endpoint-marketsList.csv\",index=False )"
      ]
    },
    {
      "cell_type": "markdown",
      "id": "22c2f3ea",
      "metadata": {
        "id": "22c2f3ea"
      },
      "source": [
        "#### Opens Output file in excel"
      ]
    },
    {
      "cell_type": "markdown",
      "id": "0e551366",
      "metadata": {
        "id": "0e551366"
      },
      "source": [
        "### `/coins/{id}/history` Get historical data (name, price, market, stats) at a given date for a coin"
      ]
    },
    {
      "cell_type": "markdown",
      "id": "eae98cad",
      "metadata": {
        "id": "eae98cad"
      },
      "source": [
        "# Coin Historical Price"
      ]
    },
    {
      "cell_type": "code",
      "execution_count": 35,
      "id": "e37db8ff",
      "metadata": {
        "colab": {
          "base_uri": "https://localhost:8080/"
        },
        "cellView": "form",
        "id": "e37db8ff",
        "outputId": "9edafc12-377c-4037-b281-7f9d80c5589d"
      },
      "outputs": [
        {
          "output_type": "stream",
          "name": "stdout",
          "text": [
            "API URL: https://api.coingecko.com/api/v3//coins/ethereum/history?date=12-01-2022&\n",
            "Price of Ethereum on 12-01-2022 was:  3246.413723028553 usd\n"
          ]
        }
      ],
      "source": [
        "#@title ## Crypto Historical Price  { run: \"auto\" }\n",
        "\n",
        "from datetime import datetime\n",
        "\n",
        "coin_id = 'ethereum' #@param [\"bitcoin\",\"cardano\", \"binancecoin\",\"solana\",\"dogecoin\",\"polkadot\",\"tron\",\"avalanche-2\",\"matic-network\",\"chainlink\",\"optimism\", \"litecoin\"] {allow-input: true}\n",
        "date = '2022-01-12' #@param {type:\"date\"}\n",
        "currency = 'usd' #@param [\"usd\",\"inr\",\"gbp\",\"eur\"] {allow-input: true}\n",
        "#convert to DD-MM-YYYY\n",
        "datef = str(datetime.strptime(date, \"%Y-%m-%d\").strftime(\"%d-%m-%Y\"))\n",
        "\n",
        "coin_history = coingeckoRequest(f\"/coins/{coin_id}/history\",date = datef, as_dict = True)\n",
        "\n",
        "\n",
        "##Printing Currency Data\n",
        "coin_oldPrice = coin_history[\"market_data\"][\"current_price\"][currency]\n",
        "print(f\"Price of {coin_id.capitalize()} on {datef} was:  {coin_oldPrice} {currency}\")\n",
        "\n"
      ]
    }
  ],
  "metadata": {
    "kernelspec": {
      "display_name": "Python 3 (ipykernel)",
      "language": "python",
      "name": "python3"
    },
    "language_info": {
      "codemirror_mode": {
        "name": "ipython",
        "version": 3
      },
      "file_extension": ".py",
      "mimetype": "text/x-python",
      "name": "python",
      "nbconvert_exporter": "python",
      "pygments_lexer": "ipython3",
      "version": "3.10.5"
    },
    "colab": {
      "name": "Coin History Tracker.ipynb",
      "provenance": [],
      "collapsed_sections": [
        "626962de"
      ],
      "include_colab_link": true
    }
  },
  "nbformat": 4,
  "nbformat_minor": 5
}