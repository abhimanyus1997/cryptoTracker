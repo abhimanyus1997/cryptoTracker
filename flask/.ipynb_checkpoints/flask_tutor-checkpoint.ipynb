{
 "cells": [
  {
   "cell_type": "markdown",
   "id": "668f18e5-cb05-4a07-be26-0c9be1bb1ca0",
   "metadata": {
    "toc-hr-collapsed": true
   },
   "source": [
    "<center> \n",
    "    <h1>Python Flask - a micro framework webserver</h1>\n",
    "        <tt>\n",
    "            <b>Quickstarter Guide by <a href=\"https://github.com/abhimanyus1997\" alt=\"abhimanyus1997\">Abhimanyu Singh</a>\n",
    "            </b>\n",
    "        </tt>  \n",
    "    <hr>    \n",
    "</center>\n",
    "<img src=\"https://flask.palletsprojects.com/en/2.1.x/_images/flask-logo.png\" alt=\"Flask Logo\" style=\"display: block; margin-left: auto; margin-right: auto; width: 50%; width:20%\">"
   ]
  },
  {
   "cell_type": "markdown",
   "id": "38fd2889-a03c-4aad-adf7-42d105d236ef",
   "metadata": {},
   "source": [
    "\n",
    "* Flask is based on WSGI (web server gateway interface) toolkit and jinja2 template engine\n",
    "* Requires python 2.7+\n",
    "* To install use \n",
    "    * `pip install flask`\n",
    "    * `conda install flask`\n"
   ]
  },
  {
   "cell_type": "markdown",
   "id": "81ce1b51-68af-42e4-98fd-5e958ff4f0fe",
   "metadata": {},
   "source": [
    "## Simple Flask Server\n",
    "Run to on the browser at **http://localhost:80**\n",
    "\n",
    "``` Python\n",
    "from flask import Flask  \n",
    "  \n",
    "app = Flask(__name__) #creating the Flask class object   \n",
    " \n",
    "@app.route('/') #decorator drfines the   \n",
    "def home():  \n",
    "    return \"hello, this is our first flask website\";  \n",
    "  \n",
    "if __name__ =='__main__':  \n",
    "    app.run(port=80,debug = True)  \n",
    "\n",
    "```"
   ]
  },
  {
   "cell_type": "markdown",
   "id": "abcea22e-3551-4130-9d45-e60812fe7df6",
   "metadata": {},
   "source": [
    "### app.route():\n",
    " The route() function of the Flask class defines the URL mapping of the associated function. The syntax is given below.\n",
    "`app.route(rule, options)`\n",
    "\n",
    "* **rule**:  represents URL binding with the function.\n",
    "* **options**: a list of parameters to be forwarded to the underlying Rule"
   ]
  },
  {
   "cell_type": "markdown",
   "id": "16846692",
   "metadata": {},
   "source": [
    "### app.run():\n",
    "The run() method of the Flask class is used to run the flask application on the local development server.  \n",
    "`app.run(host, port = 5000, debug, options)`\n",
    "\n",
    "#### Tips and Tricks:\n",
    "* Set `host=0.0.0.0` to make it availabe externally\n",
    "* Set `debug=True` so that the server will then reload itself if the code changes.\n"
   ]
  },
  {
   "cell_type": "markdown",
   "id": "a9e1e550",
   "metadata": {
    "toc-hr-collapsed": true
   },
   "source": [
    "# Flask App Routing"
   ]
  },
  {
   "cell_type": "markdown",
   "id": "ae883013-8764-4037-90ce-bf0422a97836",
   "metadata": {},
   "source": [
    "App routing is used to map the specific URL with the associated function that is intended to perform some task  "
   ]
  },
  {
   "cell_type": "markdown",
   "id": "7bc65e44-cc45-436b-9cd8-35ec6589cdb7",
   "metadata": {},
   "source": [
    "### Example 1: \n",
    "In our first application, the URL ('/') is associated with the home function that returns a particular string displayed on the web page.\n",
    "\n",
    "```Python\n",
    "from flask import Flask  \n",
    "app = Flask(__name__)  \n",
    " \n",
    "@app.route('/home')  \n",
    "def home():  \n",
    "    return \"hello, welcome to our website\";  \n",
    "  \n",
    "if __name__ ==\"__main__\":  \n",
    "    app.run(debug = True)  \n",
    "```"
   ]
  },
  {
   "cell_type": "markdown",
   "id": "530c3213-c47a-46d9-9658-1a25f4301d7c",
   "metadata": {
    "tags": []
   },
   "source": [
    "## Variable Rules -  in app routing rules\n",
    "It is possible to build a URL dynamically, by adding variable parts to the rule parameter.  \n",
    "  \n",
    "This variable part is marked as <variable-name>. It is passed as a keyword argument to the function with which the rule is associated."
   ]
  },
  {
   "cell_type": "markdown",
   "id": "163251ce-5395-47b0-a419-b14947b6673f",
   "metadata": {
    "jp-MarkdownHeadingCollapsed": true,
    "tags": []
   },
   "source": [
    "#### Example 1 : Simple Variable Rule Routing"
   ]
  },
  {
   "cell_type": "markdown",
   "id": "ab3ffc28-869c-4f09-a28f-af540b6069cb",
   "metadata": {
    "jp-MarkdownHeadingCollapsed": true,
    "tags": []
   },
   "source": [
    "```Python\n",
    "from flask import Flask  \n",
    "app = Flask(__name__)  \n",
    " \n",
    "@app.route('/hello/<name>')\n",
    "def hello_name(name):\n",
    "    x = \"Hello \"+str(name)\n",
    "    return x\n",
    "  \n",
    "if __name__ ==\"__main__\":  \n",
    "    app.run(debug = True)  \n",
    "```"
   ]
  },
  {
   "cell_type": "markdown",
   "id": "7f3d07c7-660e-4325-868c-1322537b1d01",
   "metadata": {
    "tags": []
   },
   "source": [
    "#### Types of inputs\n",
    "* str : Default \n",
    "* int : accepts integer\n",
    "* float : For floating point value\n",
    "* path : accepts slashes used as directory separator character\n",
    "  \n",
    "  "
   ]
  },
  {
   "cell_type": "markdown",
   "id": "2c58576f-1afe-4dc5-b194-2d82e9e72ba0",
   "metadata": {
    "jp-MarkdownHeadingCollapsed": true,
    "tags": []
   },
   "source": [
    "#### Example - 2 : Multiple Input Type Variable Rule Routing"
   ]
  },
  {
   "cell_type": "markdown",
   "id": "2062f331-395c-4dc9-9bf1-45b7082b4a4c",
   "metadata": {
    "tags": []
   },
   "source": [
    "```Python\n",
    "from flask import Flask\n",
    "app = Flask(__name__)\n",
    "\n",
    "@app.route('/blog/<int:postID>')\n",
    "def show_blog(postID):\n",
    "   return 'Blog Number %d' % postID\n",
    "\n",
    "@app.route('/rev/<float:revNo>')\n",
    "def revision(revNo):\n",
    "   return 'Revision Number %f' % revNo\n",
    "\n",
    "if __name__ == '__main__':\n",
    "   app.run()\n",
    "```"
   ]
  },
  {
   "cell_type": "markdown",
   "id": "7579ee22-4c2f-42e5-8b88-837b85f0751b",
   "metadata": {
    "tags": []
   },
   "source": [
    "### add_url_rule() - Another Approach"
   ]
  },
  {
   "cell_type": "markdown",
   "id": "7b0b49d3-491d-4fba-b109-ab188b9c9787",
   "metadata": {
    "tags": []
   },
   "source": [
    "One more approach to perform routing for the flask web application  \n",
    "`add_url_rule(<url rule>, <endpoint>, <view function>)`\n",
    "\n",
    "**This function is mainly used in the case if the view function is not given and we need to connect a view function to an endpoint externally by using this function.**"
   ]
  },
  {
   "cell_type": "markdown",
   "id": "7a04b16a-6923-4d8d-a092-b307a8ac42df",
   "metadata": {
    "tags": []
   },
   "source": [
    "#### Example - 3: Using add_url_rule()"
   ]
  },
  {
   "cell_type": "markdown",
   "id": "b75ef046-7335-414f-8a10-58bbd8abb582",
   "metadata": {
    "jp-MarkdownHeadingCollapsed": true,
    "tags": []
   },
   "source": [
    "```Python\n",
    "from flask import Flask  \n",
    "app = Flask(__name__)  \n",
    "  \n",
    "def about():  \n",
    "    return \"This is about page\";  \n",
    "  \n",
    "app.add_url_rule(\"/about\",\"about\",about)  \n",
    "  \n",
    "if __name__ ==\"__main__\":  \n",
    "    app.run(debug = True)  \n",
    "```"
   ]
  },
  {
   "cell_type": "markdown",
   "id": "9793e050-89bb-422c-b95c-2a0ccd02bb8c",
   "metadata": {},
   "source": [
    "# HTML Escaping\n"
   ]
  },
  {
   "cell_type": "markdown",
   "id": "ee4ffbf2-1c26-4bd4-8fb0-defb258dcf53",
   "metadata": {},
   "source": [
    "When returning HTML (the default response type in Flask), any user-provided values rendered in the output must be escaped **to protect from injection attacks**. HTML templates rendered with Jinja, introduced later, will do this automatically."
   ]
  },
  {
   "cell_type": "markdown",
   "id": "5b22e34b-916d-4eea-90b3-4174b29597f1",
   "metadata": {},
   "source": [
    "```Python\n",
    "from markupsafe import escape\n",
    "\n",
    "@app.route(\"/<name>\")\n",
    "def hello(name):\n",
    "    return f\"Hello, {escape(name)}!\"\n",
    "```"
   ]
  },
  {
   "cell_type": "markdown",
   "id": "d6379548-a18e-407b-8a67-3bb6161a5a11",
   "metadata": {
    "jp-MarkdownHeadingCollapsed": true,
    "tags": [],
    "toc-hr-collapsed": true
   },
   "source": [
    "# Flask URL Building"
   ]
  },
  {
   "cell_type": "markdown",
   "id": "fabede02-d3af-415b-a237-764098fb75ee",
   "metadata": {},
   "source": [
    "The `url_for()` function is very useful for dynamically building a URL for a specific function. The function accepts the name of a function as first argument, and one or more keyword arguments, each corresponding to the variable part of URL.\n",
    "\n",
    "`flask.url_for(endpoint, **values)`\n",
    "*Generates a URL to the given endpoint with the method provided.*"
   ]
  },
  {
   "cell_type": "markdown",
   "id": "a2512235-eda9-480a-a2ec-b7de5417311e",
   "metadata": {},
   "source": [
    "#### Example 1 - url_for() function\n",
    "```Python\n",
    "from flask import Flask, redirect, url_for\n",
    "app = Flask(__name__)\n",
    "\n",
    "@app.route('/admin')\n",
    "def hello_admin():\n",
    "   return 'Hello Admin'\n",
    "\n",
    "@app.route('/guest/<guest>')\n",
    "def hello_guest(guest):\n",
    "   return 'Hello %s as Guest' % guest\n",
    "\n",
    "@app.route('/user/<name>')\n",
    "def hello_user(name):\n",
    "   if name =='admin':\n",
    "      return redirect(url_for('hello_admin'))\n",
    "   else:\n",
    "      return redirect(url_for('hello_guest',guest = name))\n",
    "\n",
    "if __name__ == '__main__':\n",
    "   app.run(debug = True)\n",
    "\n",
    "```"
   ]
  },
  {
   "cell_type": "markdown",
   "id": "bdbb94d6-a76b-4970-b699-13b56b5cefd9",
   "metadata": {},
   "source": [
    "**Benefits of the Dynamic URL Building**\n",
    "1. It avoids hard coding of the URLs.\n",
    "1. We can change the URLs dynamically instead of remembering the manually changed hard-coded URLs.\n",
    "1. URL building handles the escaping of special characters and Unicode data transparently.\n",
    "1. The generated paths are always absolute, avoiding unexpected behavior of relative paths in browsers.\n",
    "1. If your application is placed outside the URL root, for example, in /myapplication instead of /, `url_for()` properly handles that for you."
   ]
  },
  {
   "cell_type": "markdown",
   "id": "be8537fd-a0f3-4ce5-95cf-301998e99342",
   "metadata": {
    "jp-MarkdownHeadingCollapsed": true,
    "tags": [],
    "toc-hr-collapsed": true
   },
   "source": [
    "# Flask HTTP methods"
   ]
  },
  {
   "cell_type": "markdown",
   "id": "c760d5e2-135e-474a-ab8a-e07bf7c196fd",
   "metadata": {},
   "source": [
    "| Method | Description |\n",
    "| ------ | ----------- |\n",
    "| GET | It is the most common method which can be used to send data in the unencrypted form to the server. |\n",
    "| HEAD | It is similar to the GET but used without the response body. |\n",
    "| POST | It is used to send the form data to the server. The server does not cache the data transmitted using the post method. |\n",
    "| PUT | It is used to replace all the current representation of the target resource with the uploaded content. |\n",
    "| DELETE | It is used to delete all the current representation of the target resource specified in the URL. |\n"
   ]
  },
  {
   "cell_type": "markdown",
   "id": "53260ec6-9da4-4450-a5d1-3dd0f5cb46ce",
   "metadata": {
    "jp-MarkdownHeadingCollapsed": true,
    "tags": []
   },
   "source": [
    "## POST Method\n",
    "Data sent to the server is **not shown** in the URL on the browser in the POST requests."
   ]
  },
  {
   "cell_type": "markdown",
   "id": "c4f64698-8ec0-4e7a-b1d7-02b8b6801c1e",
   "metadata": {
    "jp-MarkdownHeadingCollapsed": true,
    "tags": []
   },
   "source": [
    "### Example - 1: POST Method"
   ]
  },
  {
   "cell_type": "markdown",
   "id": "d9cf3897-6a36-450b-bfc4-7b9aedea6d76",
   "metadata": {
    "tags": []
   },
   "source": [
    "#### login.html"
   ]
  },
  {
   "cell_type": "markdown",
   "id": "2f48692e-375f-485b-a5cf-fd82cdd2d299",
   "metadata": {
    "jp-MarkdownHeadingCollapsed": true,
    "tags": []
   },
   "source": [
    "``` HTML\n",
    "<html>  \n",
    "   <body>  \n",
    "      <form action = \"http://localhost:5000/login\" method = \"post\">  \n",
    "         <table>  \n",
    "        <tr><td>Name</td>  \n",
    "        <td><input type =\"text\" name =\"uname\"></td></tr>  \n",
    "        <tr><td>Password</td>  \n",
    "        <td><input type =\"password\" name =\"pass\"></td></tr>  \n",
    "        <tr><td><input type = \"submit\"></td></tr>  \n",
    "    </table>  \n",
    "      </form>  \n",
    "   </body>  \n",
    "</html>  \n",
    "```"
   ]
  },
  {
   "cell_type": "markdown",
   "id": "a0d000df-8137-4060-8441-b1d5cb01ab81",
   "metadata": {
    "tags": []
   },
   "source": [
    "#### post_example.py"
   ]
  },
  {
   "cell_type": "markdown",
   "id": "8688f277-005e-43ae-b01c-e110ec9ca41f",
   "metadata": {},
   "source": [
    "```Python\n",
    "from flask import Flask, url_for, request\n",
    "app = Flask(__name__)  \n",
    "  \n",
    "@app.route('/login',methods = ['POST'])  \n",
    "def login():  \n",
    "      uname=request.form['uname']  \n",
    "      passwrd=request.form['pass']  \n",
    "      if uname==\"ayush\" and passwrd==\"google\":  \n",
    "          return \"Welcome %s\" %uname  \n",
    "   \n",
    "if __name__ == '__main__':  \n",
    "   app.run(debug = True)  \n",
    "```"
   ]
  },
  {
   "cell_type": "markdown",
   "id": "a8c899f4-53d0-4ffa-847d-96fe908d594a",
   "metadata": {
    "jp-MarkdownHeadingCollapsed": true,
    "tags": []
   },
   "source": [
    "## GET Method"
   ]
  },
  {
   "cell_type": "markdown",
   "id": "50546def-249e-4e62-8548-920ae311b7a5",
   "metadata": {},
   "source": [
    "Only thing chnages is <code>**request.args.get(**<i>name-attribute-in-form</i>**)**</code>\n",
    "```Python\n",
    "@app.route('/login',methods = ['GET'])  \n",
    "def login():  \n",
    "      uname=request.args.get('uname')  \n",
    "      passwrd=request.args.get('pass')  \n",
    "      if uname==\"ayush\" and passwrd==\"google\":  \n",
    "          return \"Welcome %s\" %uname   \n",
    "``` "
   ]
  },
  {
   "cell_type": "markdown",
   "id": "7a6bf934-321b-4d35-8163-4f5bd46cda3e",
   "metadata": {
    "tags": [],
    "toc-hr-collapsed": true
   },
   "source": [
    "# Flask Templates\n"
   ]
  },
  {
   "cell_type": "markdown",
   "id": "ada011d3-80dc-4219-b960-ed3a43653b11",
   "metadata": {},
   "source": [
    "Return the response in the form of HTML templates"
   ]
  },
  {
   "cell_type": "markdown",
   "id": "8edcf9c6-9da5-49fb-923e-09f9d5d215b3",
   "metadata": {
    "tags": []
   },
   "source": [
    "#### Example - 1: External File for template\n",
    "\n",
    "```Python\n",
    "from flask import *  \n",
    "app = Flask(__name__)  \n",
    " \n",
    "@app.route('/')  \n",
    "def message():  \n",
    "      return render_template('message.html')  \n",
    "if __name__ == '__main__':  \n",
    "   app.run(debug = True)  \n",
    "```"
   ]
  },
  {
   "cell_type": "markdown",
   "id": "49b20ed7-a979-45ec-9846-36becd15aa61",
   "metadata": {
    "tags": []
   },
   "source": [
    "##### NOTE: The Application Directory \n",
    "* script.py\n",
    "* templates\n",
    "* message.html"
   ]
  },
  {
   "cell_type": "markdown",
   "id": "ca029ab6-9b50-4a87-b326-1227a971f41e",
   "metadata": {},
   "source": [
    "### Flask Templates - Delimiters"
   ]
  },
  {
   "cell_type": "markdown",
   "id": "6fa9d388-9ff9-48dd-8a4d-1307d99d1710",
   "metadata": {},
   "source": [
    "**The jinga2 template engine provides the following delimiters to escape from the HTML.**\n",
    "\n",
    "* `{% ... %}` for statements\n",
    "* `{{ ... }}` for expressions to print to the template output\n",
    "* `{# ... #}` for the comments that are not included in the template output\n",
    "* `# ... ##`  for line statements"
   ]
  },
  {
   "cell_type": "markdown",
   "id": "c8072b49-4d30-460c-9f9c-5a524f745926",
   "metadata": {},
   "source": [
    "#### Example 2- Using Delimiters"
   ]
  },
  {
   "cell_type": "markdown",
   "id": "99a08748-fc06-46ac-9458-b99bae80d016",
   "metadata": {},
   "source": [
    "**message.html**\n",
    "```HTML\n",
    "<html>  \n",
    "    <head>  \n",
    "        <title>Messa/ge</title>  \n",
    "    </head>  \n",
    "    <body>  \n",
    "        <h1>hi, {{ name }}</h1>  \n",
    "    </body>  \n",
    "</html> \n",
    "```"
   ]
  },
  {
   "cell_type": "markdown",
   "id": "7772c56b-9ff1-49dd-b69f-765ae36f4870",
   "metadata": {},
   "source": [
    "**script.py**\n",
    "```Python\n",
    "from flask import *  \n",
    "app = Flask(__name__)  \n",
    "  \n",
    "@app.route('/user/<uname>')  \n",
    "def message(uname):  \n",
    "      return render_template('message.html',name=uname)  \n",
    "if __name__ == '__main__':  \n",
    "   app.run(debug = True)  \n",
    "```"
   ]
  },
  {
   "cell_type": "markdown",
   "id": "60eb5476-2e0c-48b6-a422-7586d95c6407",
   "metadata": {},
   "source": [
    "#### Example 3- Using Delimiters to Embeed Python in HTMl"
   ]
  },
  {
   "cell_type": "markdown",
   "id": "a114b535-5f79-418e-8eb3-cc686f79f1ed",
   "metadata": {},
   "source": [
    "**script.py**\n",
    "\n",
    "```Python\n",
    "from flask import *  \n",
    "app = Flask(__name__)  \n",
    "  \n",
    "@app.route('/table/<int:num>')  \n",
    "def table(num):  \n",
    "      return render_template('print-table.html',n=num)  \n",
    "if __name__ == '__main__':  \n",
    "   app.run(debug = True)  \n",
    "\n",
    "```"
   ]
  },
  {
   "cell_type": "markdown",
   "id": "6b3e7bd0-4902-4cfe-97db-273ea2873a69",
   "metadata": {},
   "source": [
    "**print-table.py**\n",
    "```HTML\n",
    "<html>  \n",
    "    <head>  \n",
    "        <title>print table</title>  \n",
    "    </head>  \n",
    "    <body>  \n",
    "        <h2> printing table of {{n}}</h2>\n",
    "        {% for i  in range(1,11): %}  \n",
    "            <h3>{{n}} X {{i}} = {{n * i}} </h3>  \n",
    "        {% endfor %}  \n",
    "    </body>  \n",
    "</html>  \n",
    "```"
   ]
  },
  {
   "attachments": {
    "ccc8f598-589e-48f2-900f-9f06f643779a.png": {
     "image/png": "[encoded data removed]"
    }
   },
   "cell_type": "markdown",
   "id": "682656ef-e9ab-4f20-855a-d75e1a65cc11",
   "metadata": {},
   "source": [
    "![image.png](attachment:ccc8f598-589e-48f2-900f-9f06f643779a.png)"
   ]
  },
  {
   "cell_type": "markdown",
   "id": "6add8601-de18-40e5-90b8-0a424879e28f",
   "metadata": {},
   "source": [
    "### Referring Static files in HTML\n"
   ]
  },
  {
   "cell_type": "markdown",
   "id": "34f196f0-0f8c-48d0-8f70-22ac57a3b546",
   "metadata": {},
   "source": [
    "The static files such as CSS or JavaScript file enhance the display of an HTML web page.  \n",
    "A web server is configured to serve such files from the static folder in the package or the next to the module.  \n",
    "The static files are available at the path `/static` of the application.\n",
    "\n"
   ]
  },
  {
   "cell_type": "markdown",
   "id": "1f1336ab-3529-4828-b158-7a82416980d7",
   "metadata": {},
   "source": [
    "**script.py**\n",
    "```Python\n",
    "from flask import *  \n",
    "app = Flask(__name__)  \n",
    " \n",
    "@app.route('/')  \n",
    "def message():  \n",
    "      return render_template('message.html')  \n",
    "if __name__ == '__main__':  \n",
    "   app.run(debug = True)  \n",
    "\n",
    "```"
   ]
  },
  {
   "cell_type": "markdown",
   "id": "ea0f4049-30b5-43d9-8429-629af1290895",
   "metadata": {},
   "source": [
    "**message.html**\n",
    "```HTML\n",
    "<html>  \n",
    "<head>  \n",
    "    <title>Message</title>  \n",
    "    <link rel=\"stylesheet\" href=\"{{ url_for('static', filename='css/style.css') }}\">  \n",
    "</head>  \n",
    "   \n",
    "<body>  \n",
    "    <h1>hi, welcome to the website</h1>  \n",
    "</body>  \n",
    "</html>  \n",
    "```"
   ]
  },
  {
   "cell_type": "markdown",
   "id": "00df1c04-743f-41b9-850c-59e4491b3032",
   "metadata": {},
   "source": [
    "**style.css**\n",
    "```CSS\n",
    "body {  \n",
    "  background-color: powderblue;  \n",
    "}  \n",
    "h1 {  \n",
    "  color: blue;  \n",
    "}  \n",
    "p {  \n",
    "  color: red;  \n",
    "}  \n",
    "```"
   ]
  }
 ],
 "metadata": {
  "kernelspec": {
   "display_name": "Python 3 (ipykernel)",
   "language": "python",
   "name": "python3"
  },
  "language_info": {
   "codemirror_mode": {
    "name": "ipython",
    "version": 3
   },
   "file_extension": ".py",
   "mimetype": "text/x-python",
   "name": "python",
   "nbconvert_exporter": "python",
   "pygments_lexer": "ipython3",
   "version": "3.10.5"
  },
  "toc-autonumbering": false,
  "vscode": {
   "interpreter": {
    "hash": "369f2c481f4da34e4445cda3fffd2e751bd1c4d706f27375911949ba6bb62e1c"
   }
  }
 },
 "nbformat": 4,
 "nbformat_minor": 5
}
